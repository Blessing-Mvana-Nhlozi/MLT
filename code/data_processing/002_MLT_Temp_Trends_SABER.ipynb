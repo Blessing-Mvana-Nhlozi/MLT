{
 "cells": [
  {
   "cell_type": "markdown",
   "id": "bc0c8cf5-0c90-4130-b33b-0dde1b267c75",
   "metadata": {},
   "source": [
    "# SABER Temperature Trend Analysis (1D, Silver Layer)\n",
    "\n",
    "This notebook processes **bronze-level monthly SABER temperature data** \n",
    "and applies multiple statistical methods to detect trends in the Mesosphere-Lower Thermosphere (MLT).\n",
    "\n",
    "**Pipeline stages:**\n",
    "1. Setup imports and paths\n",
    "2. Load helper functions\n",
    "3. Load bronze-level input data\n",
    "4. Run trend analyses:\n",
    "   - Sequential Mann-Kendall test\n",
    "   - Mann-Kendall test\n",
    "   - Sen’s slope estimator\n",
    "   - Innovative Trend Analysis (ITA)\n",
    "5. Save outputs to the **silver layer\n",
    "\n",
    "\n",
    "---\n",
    "**Input:**  \n",
    "- `bronze_saber_1d_tempoaral_agg.csv`\n",
    "\n",
    "**Output:**  \n",
    "- `silver_smk_1d.csv`  \n",
    "- `silver_mk_1d.csv`  \n",
    "- `silver_sen_slope_1d.csv`  \n",
    "- `silver_ita_1d.csv`  \n",
    "---"
   ]
  },
  {
   "cell_type": "code",
   "execution_count": 1,
   "id": "5ddffa42-1009-448f-a050-338b19e98e93",
   "metadata": {},
   "outputs": [],
   "source": [
    "import pandas as pd\n",
    "import numpy as np\n",
    "import pymannkendall as mk\n",
    "from scipy.stats import theilslopes, norm, linregress\n",
    "import datetime as dt\n",
    "import joblib\n",
    "from pathlib import Path\n",
    "\n",
    "import warnings\n",
    "warnings.filterwarnings('ignore')"
   ]
  },
  {
   "cell_type": "code",
   "execution_count": 2,
   "id": "2fc5f72f-c1e8-489d-9adb-5ac8fdcf8039",
   "metadata": {},
   "outputs": [],
   "source": [
    "# Current working directory (notebook folder)\n",
    "notebook_path = Path.cwd()  # MLT/code/data_processing\n",
    "base_path = notebook_path.parent.parent  # Go up to MLT/\n",
    "\n",
    "functions_path = notebook_path.parent / \"000_Functions.ipynb\"\n",
    "data_path = base_path / \"data\" / \"bronze\"\n",
    "silver_path = base_path / \"data\" / \"silver\""
   ]
  },
  {
   "cell_type": "code",
   "execution_count": 3,
   "id": "7f82c62f-81d4-49d5-be1e-cd9e2c8413ac",
   "metadata": {},
   "outputs": [],
   "source": [
    "# Load custom functions\n",
    "%run \"{functions_path.as_posix()}\""
   ]
  },
  {
   "cell_type": "code",
   "execution_count": 4,
   "id": "3d193ffa-1c99-44ba-bcc5-3dc1805e1c51",
   "metadata": {},
   "outputs": [],
   "source": [
    " # Read and concatenate all CSVs\n",
    "df = pd.read_csv(data_path / \"bronze_saber_1d_tempoaral_agg.csv.gz\")"
   ]
  },
  {
   "cell_type": "code",
   "execution_count": 5,
   "id": "97764433-4d2d-4271-b3fe-c8d1cc9c9f91",
   "metadata": {},
   "outputs": [],
   "source": [
    "df['year_month'] = pd.to_datetime(df['year_month'], errors='coerce')\n",
    "df['year_month'] = df['year_month'].dt.to_period('M')"
   ]
  },
  {
   "cell_type": "markdown",
   "id": "098e03fc-3461-46a1-88f3-f20169646f3c",
   "metadata": {},
   "source": [
    "## Run Trend Analyses"
   ]
  },
  {
   "cell_type": "markdown",
   "id": "2783f59b-1a95-4cc4-89c0-77609d631b27",
   "metadata": {
    "jp-MarkdownHeadingCollapsed": true
   },
   "source": [
    "### Sequential Mann-Kendall Test\n",
    "**Output:** silver_smk_1d.csv"
   ]
  },
  {
   "cell_type": "code",
   "execution_count": 6,
   "id": "220d8eb8-e03c-4d7a-9287-5e7bdf8478e8",
   "metadata": {},
   "outputs": [],
   "source": [
    "smk_1d = run_sequential_mk(df)"
   ]
  },
  {
   "cell_type": "markdown",
   "id": "8a5be690-0140-4f26-bdf4-00986b59c92d",
   "metadata": {
    "jp-MarkdownHeadingCollapsed": true
   },
   "source": [
    "### Mann-Kendall Test\n",
    "**Output:** silver_mk_1d.csv"
   ]
  },
  {
   "cell_type": "code",
   "execution_count": null,
   "id": "97e78643-92f4-41e8-be64-8480466e8388",
   "metadata": {},
   "outputs": [],
   "source": [
    "mk_1d = run_mk_tests(df, mk)"
   ]
  },
  {
   "cell_type": "markdown",
   "id": "0606c106-3fdb-4804-8832-f5f395ad2d3b",
   "metadata": {
    "jp-MarkdownHeadingCollapsed": true
   },
   "source": [
    "### Sen’s Slope Estimation\n",
    "**Output:** silver_sen_slope_1d.csv"
   ]
  },
  {
   "cell_type": "code",
   "execution_count": null,
   "id": "f2caef62-e7e2-4f45-93ac-d0e975fc48b8",
   "metadata": {},
   "outputs": [],
   "source": [
    "sen_slope = sen_slope(df)"
   ]
  },
  {
   "cell_type": "markdown",
   "id": "23ecd46c-62bd-4307-b257-b9648a35068d",
   "metadata": {
    "jp-MarkdownHeadingCollapsed": true
   },
   "source": [
    "### Innovative Trend Analysis (ITA)\n",
    "**Output:** silver_ita_1d.csv"
   ]
  },
  {
   "cell_type": "code",
   "execution_count": null,
   "id": "2b1110b4-8641-424e-84fb-67e793a21fc8",
   "metadata": {},
   "outputs": [],
   "source": [
    "ita = ITA(df)"
   ]
  },
  {
   "cell_type": "markdown",
   "id": "f4bfb23e-4b90-40d2-b53d-97e8c7974c19",
   "metadata": {},
   "source": [
    "## 6. Save Silver-layer Outputs"
   ]
  },
  {
   "cell_type": "code",
   "execution_count": 7,
   "id": "44e9e04a-ea4a-49d6-87d9-5f566cf2d8f6",
   "metadata": {},
   "outputs": [
    {
     "name": "stdout",
     "output_type": "stream",
     "text": [
      "silver_smk_1d.csv saved.\n",
      "silver_mk_1d.csv saved.\n",
      "silver_sen_slope_1d.csv saved.\n",
      "silver_ita_1d.csv saved.\n",
      "All CSVs saved successfully.\n"
     ]
    }
   ],
   "source": [
    "# Ensure silver folder exists\n",
    "silver_path.mkdir(parents=True, exist_ok=True)\n",
    "\n",
    "# Define tables to save\n",
    "tables = {'silver_smk_1d':smk_1d,\n",
    "          'silver_mk_1d':mk_1d, \n",
    "          'silver_sen_slope_1d':sen_slope, \n",
    "          'silver_ita_1d':ita}\n",
    "\n",
    "# Save tables to CSV\n",
    "for table_name, table in tables.items():\n",
    "    try:\n",
    "        file_path = silver_path / f\"{table_name}.csv\"\n",
    "        table.to_csv(file_path, index=False)\n",
    "        print(f\"[SUCCESS] {table_name}.csv saved\")\n",
    "    except Exception as e:\n",
    "        print(f\"[ERROR] Could not save {table_name}. Reason: {e}\")\n",
    "\n",
    "print(\"All CSVs saved successfully.\")"
   ]
  }
 ],
 "metadata": {
  "kernelspec": {
   "display_name": "Python 3 (ipykernel)",
   "language": "python",
   "name": "python3"
  },
  "language_info": {
   "codemirror_mode": {
    "name": "ipython",
    "version": 3
   },
   "file_extension": ".py",
   "mimetype": "text/x-python",
   "name": "python",
   "nbconvert_exporter": "python",
   "pygments_lexer": "ipython3",
   "version": "3.11.13"
  }
 },
 "nbformat": 4,
 "nbformat_minor": 5
}
