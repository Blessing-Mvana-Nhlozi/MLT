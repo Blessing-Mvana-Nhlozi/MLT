{
 "cells": [
  {
   "cell_type": "code",
   "execution_count": 1,
   "id": "982c4200-a838-44dd-a614-635e80c96a49",
   "metadata": {},
   "outputs": [
    {
     "data": {
      "text/plain": [
       "'\\n4D Temporal Time Series Model for Imputing Missing ktemp Values\\nDataset columns: altitude, longitude, latitude, year_month, ktemp\\nMVP: Minimum Viable Prediction model using TensorFlow\\n'"
      ]
     },
     "execution_count": 1,
     "metadata": {},
     "output_type": "execute_result"
    }
   ],
   "source": [
    "\"\"\"\n",
    "4D Temporal Time Series Model for Imputing Missing ktemp Values\n",
    "Dataset columns: altitude, longitude, latitude, year_month, ktemp\n",
    "MVP: Minimum Viable Prediction model using TensorFlow\n",
    "\"\"\""
   ]
  },
  {
   "cell_type": "code",
   "execution_count": 2,
   "id": "83763858-758c-445b-a695-3761ffea1f7f",
   "metadata": {},
   "outputs": [
    {
     "name": "stderr",
     "output_type": "stream",
     "text": [
      "C:\\Users\\mvana\\.conda\\envs\\MSc\\Lib\\site-packages\\requests\\__init__.py:86: RequestsDependencyWarning: Unable to find acceptable character detection dependency (chardet or charset_normalizer).\n",
      "  warnings.warn(\n"
     ]
    }
   ],
   "source": [
    "import pandas as pd\n",
    "import numpy as np\n",
    "import tensorflow as tf\n",
    "from tensorflow.keras import layers, models, callbacks\n",
    "from sklearn.preprocessing import MinMaxScaler\n",
    "from sklearn.model_selection import train_test_split\n",
    "import matplotlib.pyplot as plt\n",
    "import os\n",
    "import datetime as dt\n",
    "from pathlib import Path"
   ]
  },
  {
   "cell_type": "code",
   "execution_count": 20,
   "id": "e256b1fc-f340-4926-a87a-588e7d5d2cbb",
   "metadata": {},
   "outputs": [],
   "source": [
    "# Current working directory (notebook folder)\n",
    "notebook_path = Path.cwd()  # MLT/code/data_processing/\n",
    "base_path = notebook_path.parent.parent  # Go up to MLT/\n",
    "\n",
    "functions_path = notebook_path.parent / \"000_Functions.ipynb\"\n",
    "bronze_path = base_path / \"data\" / \"bronze\"\n",
    "silver_path = base_path / \"data\" / \"silver\""
   ]
  },
  {
   "cell_type": "code",
   "execution_count": 4,
   "id": "b0e5819b-f637-43c7-a19f-8ba2fb021466",
   "metadata": {},
   "outputs": [],
   "source": [
    "# Load CSVs\n",
    "df = pd.read_csv( bronze_path / \"bronze_saber_4d_tempoaral_agg.csv\")"
   ]
  },
  {
   "cell_type": "code",
   "execution_count": 5,
   "id": "884185ec-6690-4934-9702-7bdc8d29ee14",
   "metadata": {},
   "outputs": [],
   "source": [
    "df.columns = df.columns.str.replace('_bin', '', regex=False)"
   ]
  },
  {
   "cell_type": "code",
   "execution_count": 6,
   "id": "bde296de-188b-434f-86f9-8029397e92d3",
   "metadata": {},
   "outputs": [],
   "source": [
    "df['year_month'] = pd.to_datetime(df['year_month']).dt.to_period('M')\n",
    "\n",
    "# Extract numeric features from year_month\n",
    "df['year'] = df['year_month'].dt.year\n",
    "df['month'] = df['year_month'].dt.month\n",
    "\n",
    "# Sort data for temporal feature creation\n",
    "df = df.sort_values(['altitude', 'latitude', 'longitude', 'year', 'month']).reset_index(drop=True)"
   ]
  },
  {
   "cell_type": "code",
   "execution_count": 7,
   "id": "91375875-eb25-42fc-bb3d-75b7e601d03a",
   "metadata": {},
   "outputs": [],
   "source": [
    "# Create lag features (1 month lag)\n",
    "df['ktemp_lag1'] = df.groupby(['altitude','latitude','longitude'])['ktemp'].shift(1)\n",
    "df['ktemp_lag2'] = df.groupby(['altitude','latitude','longitude'])['ktemp'].shift(2)\n",
    "\n",
    "# Fill remaining NaNs in lag features with mean of the column\n",
    "df['ktemp_lag1'] = df['ktemp_lag1'].fillna(-9999)\n",
    "df['ktemp_lag2'] = df['ktemp_lag2'].fillna(-9999)\n",
    "\n",
    "# Features and target\n",
    "features = ['altitude', 'longitude', 'latitude', 'year', 'month', 'ktemp_lag1', 'ktemp_lag2']\n",
    "target = 'ktemp'"
   ]
  },
  {
   "cell_type": "code",
   "execution_count": 8,
   "id": "ef8c90f3-ebab-4336-b5a8-e26270f0c0a7",
   "metadata": {},
   "outputs": [],
   "source": [
    "# Scale features\n",
    "scaler = MinMaxScaler()\n",
    "df[features] = scaler.fit_transform(df[features])"
   ]
  },
  {
   "cell_type": "code",
   "execution_count": 9,
   "id": "c16cd24b-e603-474b-991d-94272b7e94af",
   "metadata": {},
   "outputs": [],
   "source": [
    "# Separate rows with ktemp missing and available\n",
    "df_train = df[df['ktemp'].notna()]\n",
    "df_missing = df[df['ktemp'].isna()]\n",
    "\n",
    "X_train = df_train[features].values\n",
    "y_train = df_train[target].values"
   ]
  },
  {
   "cell_type": "code",
   "execution_count": 10,
   "id": "d55fe25a-7214-46b8-92c9-99a7f474a179",
   "metadata": {},
   "outputs": [],
   "source": [
    "X_tr, X_val, y_tr, y_val = train_test_split(X_train, y_train, test_size=0.2, random_state=42)\n",
    "\n",
    "X_tr_tf = tf.constant(X_tr, dtype=tf.float32)\n",
    "X_val_tf = tf.constant(X_val, dtype=tf.float32)\n",
    "y_tr_tf = tf.constant(y_tr, dtype=tf.float32)\n",
    "y_val_tf = tf.constant(y_val, dtype=tf.float32)\n",
    "\n",
    "# Create TensorFlow datasets\n",
    "train_ds = tf.data.Dataset.from_tensor_slices((X_tr, y_tr)).batch(32)\n",
    "val_ds = tf.data.Dataset.from_tensor_slices((X_val, y_val)).batch(32)"
   ]
  },
  {
   "cell_type": "code",
   "execution_count": 14,
   "id": "51dd13ce-e045-4590-9be5-2d067e34780c",
   "metadata": {},
   "outputs": [],
   "source": [
    "def TemporalImputerModel(input_dim):\n",
    "    inputs = tf.keras.Input(shape=(input_dim,))\n",
    "    x = layers.Dense(64, activation=\"relu\")(inputs)\n",
    "    x = layers.Dense(32, activation=\"relu\")(x)\n",
    "    outputs = layers.Dense(1)(x)\n",
    "\n",
    "    model = tf.keras.Model(inputs=inputs, outputs=outputs)\n",
    "    return model\n",
    "\n",
    "\n",
    "\n",
    "model = TemporalImputerModel(input_dim=X_tr.shape[1])\n",
    "model.compile(optimizer='adam', loss='mse', metrics=['mae'])"
   ]
  },
  {
   "cell_type": "code",
   "execution_count": 15,
   "id": "2e13b025-a6bb-45a3-bb42-c5c9e87526ab",
   "metadata": {},
   "outputs": [],
   "source": [
    "early_stop = callbacks.EarlyStopping(monitor='val_loss', patience=10, restore_best_weights=True)"
   ]
  },
  {
   "cell_type": "code",
   "execution_count": 16,
   "id": "d3c0acaa-264b-43eb-bdf9-a69c8b1480a5",
   "metadata": {},
   "outputs": [
    {
     "name": "stdout",
     "output_type": "stream",
     "text": [
      "Epoch 1/20\n",
      "\u001b[1m17321/17321\u001b[0m \u001b[32m━━━━━━━━━━━━━━━━━━━━\u001b[0m\u001b[37m\u001b[0m \u001b[1m66s\u001b[0m 4ms/step - loss: 715.5046 - mae: 14.7704 - val_loss: 273.5913 - val_mae: 11.2876\n",
      "Epoch 2/20\n",
      "\u001b[1m17321/17321\u001b[0m \u001b[32m━━━━━━━━━━━━━━━━━━━━\u001b[0m\u001b[37m\u001b[0m \u001b[1m65s\u001b[0m 4ms/step - loss: 244.1318 - mae: 10.7455 - val_loss: 223.9596 - val_mae: 10.4374\n",
      "Epoch 3/20\n",
      "\u001b[1m17321/17321\u001b[0m \u001b[32m━━━━━━━━━━━━━━━━━━━━\u001b[0m\u001b[37m\u001b[0m \u001b[1m65s\u001b[0m 4ms/step - loss: 220.5593 - mae: 10.3587 - val_loss: 219.0127 - val_mae: 10.3741\n",
      "Epoch 4/20\n",
      "\u001b[1m17321/17321\u001b[0m \u001b[32m━━━━━━━━━━━━━━━━━━━━\u001b[0m\u001b[37m\u001b[0m \u001b[1m67s\u001b[0m 4ms/step - loss: 217.7297 - mae: 10.3059 - val_loss: 217.7591 - val_mae: 10.3667\n",
      "Epoch 5/20\n",
      "\u001b[1m17321/17321\u001b[0m \u001b[32m━━━━━━━━━━━━━━━━━━━━\u001b[0m\u001b[37m\u001b[0m \u001b[1m66s\u001b[0m 4ms/step - loss: 214.9040 - mae: 10.2281 - val_loss: 214.8446 - val_mae: 10.2441\n",
      "Epoch 6/20\n",
      "\u001b[1m17321/17321\u001b[0m \u001b[32m━━━━━━━━━━━━━━━━━━━━\u001b[0m\u001b[37m\u001b[0m \u001b[1m67s\u001b[0m 4ms/step - loss: 212.3554 - mae: 10.1476 - val_loss: 213.3771 - val_mae: 10.2003\n",
      "Epoch 7/20\n",
      "\u001b[1m17321/17321\u001b[0m \u001b[32m━━━━━━━━━━━━━━━━━━━━\u001b[0m\u001b[37m\u001b[0m \u001b[1m64s\u001b[0m 4ms/step - loss: 211.0229 - mae: 10.1009 - val_loss: 212.3592 - val_mae: 10.1692\n",
      "Epoch 8/20\n",
      "\u001b[1m17321/17321\u001b[0m \u001b[32m━━━━━━━━━━━━━━━━━━━━\u001b[0m\u001b[37m\u001b[0m \u001b[1m68s\u001b[0m 4ms/step - loss: 209.7317 - mae: 10.0611 - val_loss: 211.5791 - val_mae: 10.1487\n",
      "Epoch 9/20\n",
      "\u001b[1m17321/17321\u001b[0m \u001b[32m━━━━━━━━━━━━━━━━━━━━\u001b[0m\u001b[37m\u001b[0m \u001b[1m65s\u001b[0m 4ms/step - loss: 208.2747 - mae: 10.0084 - val_loss: 209.8627 - val_mae: 10.0961\n",
      "Epoch 10/20\n",
      "\u001b[1m17321/17321\u001b[0m \u001b[32m━━━━━━━━━━━━━━━━━━━━\u001b[0m\u001b[37m\u001b[0m \u001b[1m64s\u001b[0m 4ms/step - loss: 207.3211 - mae: 9.9771 - val_loss: 209.0563 - val_mae: 10.0659\n",
      "Epoch 11/20\n",
      "\u001b[1m17321/17321\u001b[0m \u001b[32m━━━━━━━━━━━━━━━━━━━━\u001b[0m\u001b[37m\u001b[0m \u001b[1m65s\u001b[0m 4ms/step - loss: 206.7468 - mae: 9.9595 - val_loss: 208.4358 - val_mae: 10.0521\n",
      "Epoch 12/20\n",
      "\u001b[1m17321/17321\u001b[0m \u001b[32m━━━━━━━━━━━━━━━━━━━━\u001b[0m\u001b[37m\u001b[0m \u001b[1m67s\u001b[0m 4ms/step - loss: 206.3338 - mae: 9.9464 - val_loss: 208.8945 - val_mae: 10.0716\n",
      "Epoch 13/20\n",
      "\u001b[1m17321/17321\u001b[0m \u001b[32m━━━━━━━━━━━━━━━━━━━━\u001b[0m\u001b[37m\u001b[0m \u001b[1m70s\u001b[0m 4ms/step - loss: 206.0125 - mae: 9.9361 - val_loss: 208.8746 - val_mae: 10.0715\n",
      "Epoch 14/20\n",
      "\u001b[1m17321/17321\u001b[0m \u001b[32m━━━━━━━━━━━━━━━━━━━━\u001b[0m\u001b[37m\u001b[0m \u001b[1m70s\u001b[0m 4ms/step - loss: 205.7421 - mae: 9.9272 - val_loss: 208.6692 - val_mae: 10.0657\n",
      "Epoch 15/20\n",
      "\u001b[1m17321/17321\u001b[0m \u001b[32m━━━━━━━━━━━━━━━━━━━━\u001b[0m\u001b[37m\u001b[0m \u001b[1m71s\u001b[0m 4ms/step - loss: 205.4910 - mae: 9.9193 - val_loss: 208.3853 - val_mae: 10.0603\n",
      "Epoch 16/20\n",
      "\u001b[1m17321/17321\u001b[0m \u001b[32m━━━━━━━━━━━━━━━━━━━━\u001b[0m\u001b[37m\u001b[0m \u001b[1m70s\u001b[0m 4ms/step - loss: 205.2944 - mae: 9.9135 - val_loss: 208.3091 - val_mae: 10.0630\n",
      "Epoch 17/20\n",
      "\u001b[1m17321/17321\u001b[0m \u001b[32m━━━━━━━━━━━━━━━━━━━━\u001b[0m\u001b[37m\u001b[0m \u001b[1m78s\u001b[0m 4ms/step - loss: 205.0975 - mae: 9.9075 - val_loss: 207.9714 - val_mae: 10.0561\n",
      "Epoch 18/20\n",
      "\u001b[1m17321/17321\u001b[0m \u001b[32m━━━━━━━━━━━━━━━━━━━━\u001b[0m\u001b[37m\u001b[0m \u001b[1m71s\u001b[0m 4ms/step - loss: 204.9376 - mae: 9.9028 - val_loss: 208.1781 - val_mae: 10.0677\n",
      "Epoch 19/20\n",
      "\u001b[1m17321/17321\u001b[0m \u001b[32m━━━━━━━━━━━━━━━━━━━━\u001b[0m\u001b[37m\u001b[0m \u001b[1m69s\u001b[0m 4ms/step - loss: 204.7838 - mae: 9.8987 - val_loss: 207.5329 - val_mae: 10.0496\n",
      "Epoch 20/20\n",
      "\u001b[1m17321/17321\u001b[0m \u001b[32m━━━━━━━━━━━━━━━━━━━━\u001b[0m\u001b[37m\u001b[0m \u001b[1m71s\u001b[0m 4ms/step - loss: 204.6350 - mae: 9.8943 - val_loss: 207.4390 - val_mae: 10.0461\n"
     ]
    }
   ],
   "source": [
    "history = model.fit(train_ds,\n",
    "                    validation_data=val_ds,\n",
    "                    epochs=20,\n",
    "                    callbacks=[early_stop],\n",
    "                    verbose=1)"
   ]
  },
  {
   "cell_type": "code",
   "execution_count": 17,
   "id": "4145280e-1b5e-4439-8b3a-02a9899296dd",
   "metadata": {},
   "outputs": [
    {
     "data": {
      "image/png": "[encoded data removed]",
      "text/plain": [
       "<Figure size 800x500 with 1 Axes>"
      ]
     },
     "metadata": {},
     "output_type": "display_data"
    }
   ],
   "source": [
    "plt.figure(figsize=(8,5))\n",
    "plt.plot(history.history['loss'], label='train_loss')\n",
    "plt.plot(history.history['val_loss'], label='val_loss')\n",
    "plt.xlabel('Epochs')\n",
    "plt.ylabel('MSE Loss')\n",
    "plt.title('Training History')\n",
    "plt.legend()\n",
    "plt.show()"
   ]
  },
  {
   "cell_type": "code",
   "execution_count": 18,
   "id": "ba56e874-ce46-416b-aa50-4dc7f1d52ced",
   "metadata": {},
   "outputs": [
    {
     "name": "stdout",
     "output_type": "stream",
     "text": [
      "\u001b[1m3677/3677\u001b[0m \u001b[32m━━━━━━━━━━━━━━━━━━━━\u001b[0m\u001b[37m\u001b[0m \u001b[1m8s\u001b[0m 2ms/step\n"
     ]
    }
   ],
   "source": [
    "def impute_missing(df, features, model, scaler):\n",
    "    df_copy = df.copy()\n",
    "    \n",
    "    # Scale features\n",
    "    df_copy[features] = scaler.transform(df_copy[features])\n",
    "    \n",
    "    # Predict missing values\n",
    "    mask = df_copy['ktemp'].isna()\n",
    "    X_missing = df_copy.loc[mask, features].values\n",
    "    df_copy.loc[mask, 'ktemp'] = model.predict(X_missing).flatten()\n",
    "    \n",
    "    return df_copy\n",
    "\n",
    "df_imputed = impute_missing(df, features, model, scaler)"
   ]
  },
  {
   "cell_type": "code",
   "execution_count": 21,
   "id": "85bd91d9-27a3-4200-9636-9620e9104e7f",
   "metadata": {},
   "outputs": [
    {
     "name": "stdout",
     "output_type": "stream",
     "text": [
      "[SUCCESS] silver_saber_4d_tempoaral_agg.csv\n",
      "All CSVs saved successfully\n"
     ]
    }
   ],
   "source": [
    "# Ensure silver folder exists\n",
    "silver_path.mkdir(parents=True, exist_ok=True)\n",
    "\n",
    "# Define tables to save\n",
    "tables = {'silver_saber_4d_tempoaral_agg':df_imputed}\n",
    "\n",
    "for table_name, table in tables.items():\n",
    "    try:\n",
    "        file_path = bronze_path / f\"{table_name}.csv\"\n",
    "        table.to_csv(file_path, index=False)\n",
    "        print(f\"[SUCCESS] {table_name}.csv\")\n",
    "    except Exception as e:\n",
    "        print(f\"[ERROR] Could not save {table_name}. Reason: {e}\")\n",
    "\n",
    "print(\"All CSVs saved successfully\")"
   ]
  }
 ],
 "metadata": {
  "kernelspec": {
   "display_name": "Python 3 (ipykernel)",
   "language": "python",
   "name": "python3"
  },
  "language_info": {
   "codemirror_mode": {
    "name": "ipython",
    "version": 3
   },
   "file_extension": ".py",
   "mimetype": "text/x-python",
   "name": "python",
   "nbconvert_exporter": "python",
   "pygments_lexer": "ipython3",
   "version": "3.11.13"
  }
 },
 "nbformat": 4,
 "nbformat_minor": 5
}
