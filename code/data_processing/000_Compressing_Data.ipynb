{
 "cells": [
  {
   "cell_type": "code",
   "execution_count": 1,
   "id": "48e61aeb-36b7-4260-8688-dcf30b0b600e",
   "metadata": {},
   "outputs": [
    {
     "name": "stdout",
     "output_type": "stream",
     "text": [
      "[SUCCESS] Compressed: sutherland_timeseries_2002.csv --> .csv.gz (476477 rows)\n",
      "[SUCCESS] Compressed: sutherland_timeseries_2003.csv --> .csv.gz (531462 rows)\n",
      "[SUCCESS] Compressed: sutherland_timeseries_2004.csv --> .csv.gz (540068 rows)\n",
      "[SUCCESS] Compressed: sutherland_timeseries_2005.csv --> .csv.gz (534540 rows)\n",
      "[SUCCESS] Compressed: sutherland_timeseries_2006.csv --> .csv.gz (544214 rows)\n",
      "[SUCCESS] Compressed: sutherland_timeseries_2007.csv --> .csv.gz (543345 rows)\n",
      "[SUCCESS] Compressed: sutherland_timeseries_2008.csv --> .csv.gz (536033 rows)\n",
      "[SUCCESS] Compressed: sutherland_timeseries_2009.csv --> .csv.gz (524634 rows)\n",
      "[SUCCESS] Compressed: sutherland_timeseries_2010.csv --> .csv.gz (554915 rows)\n",
      "[SUCCESS] Compressed: sutherland_timeseries_2011.csv --> .csv.gz (551101 rows)\n",
      "[SUCCESS] Compressed: sutherland_timeseries_2012.csv --> .csv.gz (563370 rows)\n",
      "[SUCCESS] Compressed: sutherland_timeseries_2013.csv --> .csv.gz (567054 rows)\n",
      "[SUCCESS] Compressed: sutherland_timeseries_2014.csv --> .csv.gz (555128 rows)\n",
      "[SUCCESS] Compressed: sutherland_timeseries_2015.csv --> .csv.gz (552862 rows)\n",
      "[SUCCESS] Compressed: sutherland_timeseries_2016.csv --> .csv.gz (568662 rows)\n",
      "[SUCCESS] Compressed: sutherland_timeseries_2017.csv --> .csv.gz (560137 rows)\n",
      "[SUCCESS] Compressed: sutherland_timeseries_2018.csv --> .csv.gz (559436 rows)\n",
      "[SUCCESS] Compressed: sutherland_timeseries_2019.csv --> .csv.gz (562145 rows)\n",
      "[SUCCESS] Compressed: sutherland_timeseries_2020.csv --> .csv.gz (558958 rows)\n",
      "[SUCCESS] Compressed: sutherland_timeseries_2021.csv --> .csv.gz (561389 rows)\n",
      "[SUCCESS] Compressed: sutherland_timeseries_2022.csv --> .csv.gz (564544 rows)\n",
      "[SUCCESS] Compressed: sutherland_timeseries_2023.csv --> .csv.gz (565583 rows)\n",
      "[SUCCESS] Compressed: sutherland_timeseries_2024.csv --> .csv.gz (555535 rows)\n",
      "[SUCCESS] Compressed: sutherland_timeseries_2025.csv --> .csv.gz (318875 rows)\n"
     ]
    }
   ],
   "source": [
    "import pandas as pd\n",
    "from pathlib import Path\n",
    "\n",
    "# Current working directory (notebook folder)\n",
    "notebook_path = Path.cwd()  # MLT/code/data_processing\n",
    "data_path = notebook_path.parent.parent.parent.parent / \"SABER\" \n",
    "raw_path = notebook_path.parent.parent / \"data\" / \"raw\"\n",
    "\n",
    "# years from 2002 to 2025 (inclusive)\n",
    "years = range(2002, 2026)\n",
    "\n",
    "# Read, split, and save each file\n",
    "for year in years:\n",
    "    try:\n",
    "        file = data_path / f\"sutherland_timeseries_{year}.csv\"\n",
    "        df = pd.read_csv(file)\n",
    "        df = df[['date', 'tpaltitude', 'tplatitude', 'tplongitude', 'ktemp']]\n",
    "        # Ensure 'date' is parsed as datetime\n",
    "        df['date'] = pd.to_datetime(\n",
    "            df['date'].apply(lambda x: str(int(x)).zfill(7) if pd.notnull(x) else None),\n",
    "            format='%Y%j',\n",
    "            errors='coerce'  # <-- just in case\n",
    "                )\n",
    "        # Output file paths\n",
    "        file_gz = raw_path / f\"sutherland_timeseries_{year}.csv.gz\"\n",
    "        # Save them\n",
    "        df.to_csv(file_gz, index=False, compression='gzip')\n",
    "        print(f\"[SUCCESS] Compressed: sutherland_timeseries_{year}.csv --> .csv.gz ({len(df)} rows)\")\n",
    "    except Exception as e:\n",
    "        print(f\"[ERROR] Could not process {year}: {e}\")"
   ]
  }
 ],
 "metadata": {
  "kernelspec": {
   "display_name": "Python 3 (ipykernel)",
   "language": "python",
   "name": "python3"
  },
  "language_info": {
   "codemirror_mode": {
    "name": "ipython",
    "version": 3
   },
   "file_extension": ".py",
   "mimetype": "text/x-python",
   "name": "python",
   "nbconvert_exporter": "python",
   "pygments_lexer": "ipython3",
   "version": "3.11.13"
  }
 },
 "nbformat": 4,
 "nbformat_minor": 5
}
