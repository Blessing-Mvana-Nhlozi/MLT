{
 "cells": [
  {
   "cell_type": "markdown",
   "id": "1f3e7341-fab0-4c25-a79b-7844292177b2",
   "metadata": {},
   "source": [
    "# SABER Temperature Trend Analysis (2D, Silver Layer)\n",
    "\n",
    "This notebook processes **bronze-level aggregated SABER temperature data** and applies multiple \n",
    "statistical methods to detect trends across altitudes in the Mesosphere-Lower Thermosphere (MLT).\n",
    "\n",
    "**Pipeline stages:**\n",
    "1. Setup paths and imports.\n",
    "2. Load custom functions.\n",
    "3. Load bronze-level input data.\n",
    "4. Run trend analyses:\n",
    "   - Mann-Kendall test\n",
    "   - Sequential Mann-Kendall test\n",
    "   - Sen’s slope estimator\n",
    "   - Innovative Trend Analysis (ITA)\n",
    "5. Aggregate results.\n",
    "6. Save outputs to the silver layer (CSV + joblib).\n",
    "\n",
    "\n",
    "---\n",
    "**Input:**  \n",
    "- `bronze_saber_2d_tempoaral_agg.csv`\n",
    "\n",
    "**Output:**  \n",
    "- `silver_smk_2d.joblib`\n",
    "- `silver_smk_2d_count.csv`  \n",
    "- `silver_mk_2d.csv`  \n",
    "- `silver_sen_slope_2d.csv`  \n",
    "- `silver_ita_2d.csv`  \n",
    "---"
   ]
  },
  {
   "cell_type": "code",
   "execution_count": 1,
   "id": "5ddffa42-1009-448f-a050-338b19e98e93",
   "metadata": {},
   "outputs": [],
   "source": [
    "import pandas as pd\n",
    "import numpy as np\n",
    "import scipy.stats as stats\n",
    "import pymannkendall as mk\n",
    "from scipy.stats import linregress\n",
    "from scipy.stats import theilslopes\n",
    "import datetime as dt\n",
    "from scipy.stats import norm\n",
    "import joblib\n",
    "from pathlib import Path\n",
    "\n",
    "import warnings\n",
    "warnings.filterwarnings('ignore')"
   ]
  },
  {
   "cell_type": "code",
   "execution_count": 2,
   "id": "2fc5f72f-c1e8-489d-9adb-5ac8fdcf8039",
   "metadata": {},
   "outputs": [],
   "source": [
    "# Current working directory (notebook folder)\n",
    "notebook_path = Path.cwd()  # MLT/code/\n",
    "base_path = notebook_path.parent.parent  # Go up to MLT/\n",
    "\n",
    "functions_path = notebook_path.parent / \"000_Functions.ipynb\"\n",
    "data_path = base_path / \"data\" / \"bronze\"\n",
    "silver_path = base_path / \"data\" / \"silver\""
   ]
  },
  {
   "cell_type": "code",
   "execution_count": 3,
   "id": "7f82c62f-81d4-49d5-be1e-cd9e2c8413ac",
   "metadata": {},
   "outputs": [],
   "source": [
    "# Load custom functions\n",
    "%run \"{functions_path.as_posix()}\""
   ]
  },
  {
   "cell_type": "code",
   "execution_count": 4,
   "id": "3d193ffa-1c99-44ba-bcc5-3dc1805e1c51",
   "metadata": {},
   "outputs": [],
   "source": [
    " # Read and concatenate all CSVs\n",
    "df = pd.read_csv(data_path / \"bronze_saber_2d_tempoaral_agg.csv\")"
   ]
  },
  {
   "cell_type": "code",
   "execution_count": 5,
   "id": "97764433-4d2d-4271-b3fe-c8d1cc9c9f91",
   "metadata": {},
   "outputs": [],
   "source": [
    "df['year_month'] = pd.to_datetime(df['year_month'], errors='coerce')\n",
    "df['year_month'] = df['year_month'].dt.to_period('M')"
   ]
  },
  {
   "cell_type": "markdown",
   "id": "6acd4871-89e6-47a3-934c-8882efafbb9c",
   "metadata": {},
   "source": [
    "## Run Trend Analyses"
   ]
  },
  {
   "cell_type": "markdown",
   "id": "de82e318-4b36-4070-bbfa-6ebdcc9404e5",
   "metadata": {},
   "source": [
    "### Mann-Kendall Test by Altitude\n",
    "**Output:** silver_mk_2d.csv"
   ]
  },
  {
   "cell_type": "code",
   "execution_count": 7,
   "id": "69129042-a675-40e9-8bcf-f9ba67201529",
   "metadata": {},
   "outputs": [],
   "source": [
    "mk_2d = run_mk_tests_by_altitude(df, mk)"
   ]
  },
  {
   "cell_type": "markdown",
   "id": "625fa958-d00b-43db-8c84-ae2719e7e82d",
   "metadata": {},
   "source": [
    "### Sequential Mann-Kendall Test by Altitude\n",
    "**Output:** silver_smk_2d.csv and silver_smk_2d_count.csv"
   ]
  },
  {
   "cell_type": "code",
   "execution_count": 8,
   "id": "0b21c7fc-7632-4048-9f21-d9fea31a996d",
   "metadata": {},
   "outputs": [],
   "source": [
    "smk_2d = run_sequential_mk_by_altitude(df)"
   ]
  },
  {
   "cell_type": "code",
   "execution_count": 9,
   "id": "df71287e-8edd-4f1d-8953-afcfcf51b0f1",
   "metadata": {},
   "outputs": [],
   "source": [
    "smk_2d_count = analyze_trends_count(smk_2d)"
   ]
  },
  {
   "cell_type": "markdown",
   "id": "b2e2a0dd-8dae-4a77-b781-2867d1160fe3",
   "metadata": {},
   "source": [
    "### Innovative Trend Analysis (ITA)\n",
    "**Output:** silver_ita_2d.csv"
   ]
  },
  {
   "cell_type": "code",
   "execution_count": 10,
   "id": "7b91ce87-b7b4-4b34-9a7c-5da7ebc77285",
   "metadata": {},
   "outputs": [],
   "source": [
    "ita_2d = ITA_alt(df)"
   ]
  },
  {
   "cell_type": "markdown",
   "id": "4af482b8-d476-4936-b76c-5fd182d2c7c6",
   "metadata": {},
   "source": [
    "### Sen’s Slope Estimation\n",
    "**Output:** silver_sen_slope_2d.csv"
   ]
  },
  {
   "cell_type": "code",
   "execution_count": 11,
   "id": "19449a4b-1fd9-4059-a7df-e05ee1b94d11",
   "metadata": {},
   "outputs": [],
   "source": [
    "sen_slope_2d = sen_slope_by_altitude(df)"
   ]
  },
  {
   "cell_type": "markdown",
   "id": "b7a1d0b3-3947-4795-83dc-8c4156470f81",
   "metadata": {},
   "source": [
    "## 6. Save Silver-layer Outputs"
   ]
  },
  {
   "cell_type": "code",
   "execution_count": 12,
   "id": "44e9e04a-ea4a-49d6-87d9-5f566cf2d8f6",
   "metadata": {},
   "outputs": [
    {
     "name": "stdout",
     "output_type": "stream",
     "text": [
      "[SUCCESS] silver_smk_2d_count.csv saved\n",
      "[SUCCESS] silver_mk_2d.csv saved\n",
      "[SUCCESS] silver_sen_slope_2d.csv saved\n",
      "[SUCCESS] silver_ita_2d.csv saved\n",
      "All CSVs saved successfully.\n"
     ]
    }
   ],
   "source": [
    "# Ensure silver folder exists\n",
    "silver_path.mkdir(parents=True, exist_ok=True)\n",
    "\n",
    "# Define tables to save\n",
    "tables = {\n",
    "    \"silver_smk_2d_count\": smk_2d_count,\n",
    "    \"silver_mk_2d\": mk_2d,\n",
    "    \"silver_sen_slope_2d\": sen_slope_2d,\n",
    "    \"silver_ita_2d\": ita_2d,\n",
    "}\n",
    "\n",
    "# Save tables to CSV\n",
    "for table_name, table in tables.items():\n",
    "    try:\n",
    "        file_path = silver_path / f\"{table_name}.csv\"\n",
    "        table.to_csv(file_path, index=False)\n",
    "        print(f\"[SUCCESS] {table_name}.csv saved\")\n",
    "    except Exception as e:\n",
    "        print(f\"[ERROR] Could not save {table_name}. Reason: {e}\")\n",
    "\n",
    "print(\"All CSVs saved successfully.\")"
   ]
  },
  {
   "cell_type": "code",
   "execution_count": 13,
   "id": "a72812a7-b865-4133-9cb3-ecf9b7657cf7",
   "metadata": {},
   "outputs": [
    {
     "data": {
      "text/plain": [
       "['C:\\\\Users\\\\mvana\\\\Documents\\\\MSc\\\\MLT\\\\data\\\\silver\\\\silver_smk_2d.joblib']"
      ]
     },
     "execution_count": 13,
     "metadata": {},
     "output_type": "execute_result"
    }
   ],
   "source": [
    "# Save\n",
    "joblib.dump(smk_2d, silver_path / \"silver_smk_2d.joblib\")"
   ]
  }
 ],
 "metadata": {
  "kernelspec": {
   "display_name": "Python 3 (ipykernel)",
   "language": "python",
   "name": "python3"
  },
  "language_info": {
   "codemirror_mode": {
    "name": "ipython",
    "version": 3
   },
   "file_extension": ".py",
   "mimetype": "text/x-python",
   "name": "python",
   "nbconvert_exporter": "python",
   "pygments_lexer": "ipython3",
   "version": "3.10.15"
  }
 },
 "nbformat": 4,
 "nbformat_minor": 5
}
