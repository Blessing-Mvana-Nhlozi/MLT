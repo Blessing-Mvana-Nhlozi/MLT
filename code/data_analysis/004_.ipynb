{
 "cells": [
  {
   "cell_type": "code",
   "execution_count": 1,
   "id": "58e41300-f4e9-4624-920e-52383888f9b1",
   "metadata": {},
   "outputs": [],
   "source": [
    "import pandas as pd\n",
    "import matplotlib.pyplot as plt\n",
    "from matplotlib.colors import LinearSegmentedColormap\n",
    "import seaborn as sns\n",
    "import numpy as np\n",
    "import datetime as dt\n",
    "from matplotlib.colors import Normalize\n",
    "from pathlib import Path"
   ]
  },
  {
   "cell_type": "code",
   "execution_count": 2,
   "id": "c4a968eb-d48b-4a3e-9241-dbb9cfc1f1d0",
   "metadata": {},
   "outputs": [],
   "source": [
    "# Current working directory (notebook folder)\n",
    "notebook_path = Path.cwd()  # MLT/code/data_processing/\n",
    "base_path = notebook_path.parent.parent  # Go up to MLT/\n",
    "\n",
    "functions_path = notebook_path.parent / \"000_Functions.ipynb\"\n",
    "data_path = base_path / \"data\" / \"raw\"\n",
    "bronze_path = base_path / \"data\" / \"bronze\""
   ]
  },
  {
   "cell_type": "code",
   "execution_count": null,
   "id": "ffcf32c3-6126-45e4-81b4-3441bbd63a78",
   "metadata": {},
   "outputs": [],
   "source": [
    "# Load custom functions\n",
    "%run \"{functions_path.as_posix()}\""
   ]
  },
  {
   "cell_type": "code",
   "execution_count": 6,
   "id": "440777e3-514e-4fcf-8189-fe587c10a305",
   "metadata": {},
   "outputs": [],
   "source": [
    "# Load CSVs\n",
    "df = pd.read_csv( bronze_path / \"bronze_saber_1d_tempoaral_agg.csv\")"
   ]
  },
  {
   "cell_type": "code",
   "execution_count": 11,
   "id": "2b228254-1903-49ff-a75e-ef994b357ec4",
   "metadata": {},
   "outputs": [],
   "source": [
    "# Convert year_month strings to datetime (taking first day of month)\n",
    "df['year_month'] = pd.to_datetime(df['year_month'], format='%Y-%m')"
   ]
  },
  {
   "cell_type": "code",
   "execution_count": 14,
   "id": "2b10cc27-38cd-4f7b-9c29-b40d60716008",
   "metadata": {},
   "outputs": [],
   "source": [
    "# df['year_month'] = pd.to_datetime(df['year_month']).dt.to_period('M')"
   ]
  },
  {
   "cell_type": "code",
   "execution_count": 15,
   "id": "e1cb5d98-605a-430d-acd3-1d7dffafcf9b",
   "metadata": {},
   "outputs": [
    {
     "name": "stdout",
     "output_type": "stream",
     "text": [
      "=== Data Info ===\n",
      "<class 'pandas.core.frame.DataFrame'>\n",
      "RangeIndex: 283 entries, 0 to 282\n",
      "Data columns (total 4 columns):\n",
      " #   Column      Non-Null Count  Dtype         \n",
      "---  ------      --------------  -----         \n",
      " 0   year_month  283 non-null    datetime64[ns]\n",
      " 1   ktemp       283 non-null    float64       \n",
      " 2   year        283 non-null    int64         \n",
      " 3   month       283 non-null    int64         \n",
      "dtypes: datetime64[ns](1), float64(1), int64(2)\n",
      "memory usage: 9.0 KB\n",
      "None\n",
      "\n",
      "=== Head of Data ===\n",
      "  year_month       ktemp  year  month\n",
      "0 2002-01-01  213.411947  2002      1\n",
      "1 2002-02-01  213.660216  2002      2\n",
      "2 2002-03-01  213.637311  2002      3\n",
      "3 2002-04-01  214.023157  2002      4\n",
      "4 2002-05-01  212.659695  2002      5\n",
      "\n",
      "=== Missing Values ===\n",
      "year_month    0\n",
      "ktemp         0\n",
      "year          0\n",
      "month         0\n",
      "dtype: int64\n",
      "\n",
      "Duplicate rows: 0\n",
      "\n",
      "=== Descriptive Statistics ===\n",
      "                          year_month       ktemp         year       month\n",
      "count                            283  283.000000   283.000000  283.000000\n",
      "mean   2013-09-30 20:36:27.985865728  211.162009  2013.296820    6.438163\n",
      "min              2002-01-01 00:00:00  206.550729  2002.000000    1.000000\n",
      "25%              2007-11-16 00:00:00  209.915454  2007.000000    3.000000\n",
      "50%              2013-10-01 00:00:00  211.204150  2013.000000    6.000000\n",
      "75%              2019-08-16 12:00:00  212.304358  2019.000000    9.000000\n",
      "max              2025-07-01 00:00:00  215.888070  2025.000000   12.000000\n",
      "std                              NaN    1.704993     6.822748    3.451625\n",
      "\n",
      "Column: ktemp\n",
      "count    283.000000\n",
      "mean     211.162009\n",
      "std        1.704993\n",
      "min      206.550729\n",
      "25%      209.915454\n",
      "50%      211.204150\n",
      "75%      212.304358\n",
      "max      215.888070\n",
      "Name: ktemp, dtype: float64\n",
      "Number of negative values: 0\n",
      "\n",
      "Column: year\n",
      "count     283.000000\n",
      "mean     2013.296820\n",
      "std         6.822748\n",
      "min      2002.000000\n",
      "25%      2007.000000\n",
      "50%      2013.000000\n",
      "75%      2019.000000\n",
      "max      2025.000000\n",
      "Name: year, dtype: float64\n",
      "Number of negative values: 0\n",
      "\n",
      "Column: month\n",
      "count    283.000000\n",
      "mean       6.438163\n",
      "std        3.451625\n",
      "min        1.000000\n",
      "25%        3.000000\n",
      "50%        6.000000\n",
      "75%        9.000000\n",
      "max       12.000000\n",
      "Name: month, dtype: float64\n",
      "Number of negative values: 0\n",
      "\n",
      "=== Temporal Consistency ===\n",
      "Invalid dates: 0\n",
      "Date range: 2002-01-01 00:00:00 to 2025-07-01 00:00:00\n"
     ]
    }
   ],
   "source": [
    "# 1. Quick overview\n",
    "print(\"=== Data Info ===\")\n",
    "print(df.info())\n",
    "print(\"\\n=== Head of Data ===\")\n",
    "print(df.head())\n",
    "\n",
    "# 2. Check for missing values\n",
    "print(\"\\n=== Missing Values ===\")\n",
    "print(df.isna().sum())\n",
    "\n",
    "# 3. Check for duplicate rows\n",
    "duplicates = df.duplicated().sum()\n",
    "print(f\"\\nDuplicate rows: {duplicates}\")\n",
    "\n",
    "# 4. Basic descriptive statistics\n",
    "print(\"\\n=== Descriptive Statistics ===\")\n",
    "print(df.describe(include='all'))\n",
    "\n",
    "# 5. Check for unexpected values or outliers in key columns\n",
    "numeric_cols = df.select_dtypes(include='number').columns\n",
    "for col in numeric_cols:\n",
    "    print(f\"\\nColumn: {col}\")\n",
    "    print(df[col].describe())\n",
    "    print(f\"Number of negative values: {(df[col] < 0).sum()}\")  # if negatives are invalid\n",
    "\n",
    "# 6. Check temporal consistency if you have a time column\n",
    "if 'year_month' in df.columns:\n",
    "    df['year_month'] = pd.to_datetime(df['year_month'], errors='coerce')\n",
    "    print(\"\\n=== Temporal Consistency ===\")\n",
    "    print(f\"Invalid dates: {df['year_month'].isna().sum()}\")\n",
    "    print(f\"Date range: {df['year_month'].min()} to {df['year_month'].max()}\")"
   ]
  }
 ],
 "metadata": {
  "kernelspec": {
   "display_name": "Python 3 (ipykernel)",
   "language": "python",
   "name": "python3"
  },
  "language_info": {
   "codemirror_mode": {
    "name": "ipython",
    "version": 3
   },
   "file_extension": ".py",
   "mimetype": "text/x-python",
   "name": "python",
   "nbconvert_exporter": "python",
   "pygments_lexer": "ipython3",
   "version": "3.11.13"
  }
 },
 "nbformat": 4,
 "nbformat_minor": 5
}
